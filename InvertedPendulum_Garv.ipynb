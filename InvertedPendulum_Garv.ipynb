{
 "cells": [
  {
   "cell_type": "code",
   "execution_count": 1,
   "metadata": {},
   "outputs": [],
   "source": [
    "import gym\n",
    "import pygame\n",
    "env = gym.make('CartPole-v1',render_mode='human')\n",
    "#env.unwrapped.dt=0.075\n",
    "#new_action_space = gym.spaces.Discrete(100)\n",
    "#env.unwrapped.action_space = new_action_space\n",
    "#pygame.init()\n",
    "#screen=pygame.display.set_mode((1600,1200))"
   ]
  },
  {
   "cell_type": "code",
   "execution_count": 4,
   "metadata": {},
   "outputs": [],
   "source": [
    "class process:\n",
    "    def __init__(self, kp, ki, kd):\n",
    "        self.kp = kp\n",
    "        self.ki = ki\n",
    "        self.kd = kd\n",
    "        self.integral = 0\n",
    "        self.past_error = 0\n",
    "\n",
    "    def get_action(self, state, wanted_pole_angle):\n",
    "        real_pole_angle = state[0][2]\n",
    "        error = wanted_pole_angle - real_pole_angle\n",
    "        self.integral += error\n",
    "        differential = error - self.past_error\n",
    "        self.past_error = error\n",
    "        return self.kp*error + self.ki*self.integral + self.kd*differential\n",
    "pid = process(kp=170, ki=-1.6, kd=0.0005)\n",
    "state=env.reset()"
   ]
  },
  {
   "cell_type": "code",
   "execution_count": 5,
   "metadata": {},
   "outputs": [],
   "source": [
    "\n",
    "wanted_pole_angle = 0\n",
    "for step in range(400):\n",
    "    action = pid.get_action(state, wanted_pole_angle)\n",
    "    if action > 0:\n",
    "        action = 0\n",
    "    else:\n",
    "        action = 1\n",
    "    state= env.step(action)\n",
    "    env.render()\n",
    "    \"\"\"if(state[0][2]>35):\n",
    "        action=0\n",
    "        state=env.step(action)\n",
    "        env.render()\n",
    "        state=env.step(action)\n",
    "        env.render()\n",
    "    elif(state[0][2]<-35):\n",
    "        action=1\n",
    "        state=env.step(action)\n",
    "        env.render()\n",
    "        state=env.step(action)\n",
    "        env.render()\"\"\"\n",
    "    "
   ]
  },
  {
   "cell_type": "code",
   "execution_count": 48,
   "metadata": {},
   "outputs": [],
   "source": [
    "env.close()\n",
    "#pygame.quit()"
   ]
  }
 ],
 "metadata": {
  "kernelspec": {
   "display_name": "Python 3",
   "language": "python",
   "name": "python3"
  },
  "language_info": {
   "codemirror_mode": {
    "name": "ipython",
    "version": 3
   },
   "file_extension": ".py",
   "mimetype": "text/x-python",
   "name": "python",
   "nbconvert_exporter": "python",
   "pygments_lexer": "ipython3",
   "version": "3.8.6"
  },
  "orig_nbformat": 4,
  "vscode": {
   "interpreter": {
    "hash": "72f1682dd39b1f835de3ec6f644ccd6f6d4b0d09980f45f9916d87dd0a3587b1"
   }
  }
 },
 "nbformat": 4,
 "nbformat_minor": 2
}
